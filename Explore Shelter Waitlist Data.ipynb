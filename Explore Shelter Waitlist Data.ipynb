{
 "cells": [
  {
   "cell_type": "markdown",
   "metadata": {},
   "source": [
    "# Explore Shelter Waitlist Data"
   ]
  },
  {
   "cell_type": "code",
   "execution_count": 1,
   "metadata": {
    "ExecuteTime": {
     "end_time": "2019-03-12T18:04:54.694263Z",
     "start_time": "2019-03-12T18:04:53.610474Z"
    }
   },
   "outputs": [],
   "source": [
    "import csv\n",
    "import inflect\n",
    "import pandas as pd\n",
    "import matplotlib.pyplot as plt\n",
    "import seaborn as sns\n",
    "from sodapy import Socrata"
   ]
  },
  {
   "cell_type": "code",
   "execution_count": 3,
   "metadata": {
    "ExecuteTime": {
     "end_time": "2019-03-12T18:05:01.447209Z",
     "start_time": "2019-03-12T18:05:00.785370Z"
    }
   },
   "outputs": [
    {
     "name": "stderr",
     "output_type": "stream",
     "text": [
      "WARNING:root:Requests made without an app_token will be subject to strict throttling limits.\n"
     ]
    }
   ],
   "source": [
    "client = Socrata(\"data.sfgov.org\", None)\n",
    "\n",
    "# This string is the weird endpoint for this dataset?\n",
    "results = client.get(\"w4sk-nq57\", limit=2000)\n",
    "results_df = pd.DataFrame.from_records(results)"
   ]
  },
  {
   "cell_type": "code",
   "execution_count": 4,
   "metadata": {
    "ExecuteTime": {
     "end_time": "2019-03-12T18:05:03.271874Z",
     "start_time": "2019-03-12T18:05:03.265964Z"
    }
   },
   "outputs": [
    {
     "data": {
      "text/plain": [
       "1405"
      ]
     },
     "execution_count": 4,
     "metadata": {},
     "output_type": "execute_result"
    }
   ],
   "source": [
    "results_df[:25]\n",
    "len(results_df.index)"
   ]
  },
  {
   "cell_type": "code",
   "execution_count": 5,
   "metadata": {
    "ExecuteTime": {
     "end_time": "2019-03-12T18:05:04.116848Z",
     "start_time": "2019-03-12T18:05:04.093534Z"
    }
   },
   "outputs": [
    {
     "data": {
      "text/plain": [
       "18-35    266\n",
       "35-44    309\n",
       "45-54    314\n",
       "55-64    355\n",
       "65+      158\n",
       "Name: dob, dtype: int64"
      ]
     },
     "execution_count": 5,
     "metadata": {},
     "output_type": "execute_result"
    }
   ],
   "source": [
    "# Filter out the range values\n",
    "df = results_df[~results_df['dob'].apply(lambda x: int(x[-4:])).isin([1895, 2019])]\n",
    "\n",
    "def group_ages(x):\n",
    "    year = int(x[-4:])\n",
    "    #print(year)\n",
    "    if year <= 1954:\n",
    "        return '65+'\n",
    "    if year <= 1964 and year >= 1955:\n",
    "        return '55-64'\n",
    "    if year <= 1974 and year >= 1965:\n",
    "        return '45-54'\n",
    "    if year <= 1984 and year >= 1975:\n",
    "        return '35-44'\n",
    "    if year >= 1985:\n",
    "        return '18-35'\n",
    "\n",
    "year_counts = df['dob'].apply(lambda x: group_ages(x)).value_counts().sort_index()\n",
    "year_counts"
   ]
  },
  {
   "cell_type": "code",
   "execution_count": 6,
   "metadata": {
    "ExecuteTime": {
     "end_time": "2019-03-12T18:05:05.771285Z",
     "start_time": "2019-03-12T18:05:05.589427Z"
    },
    "scrolled": true
   },
   "outputs": [
    {
     "data": {
      "image/png": "[encoded data removed]",
      "text/plain": [
       "<Figure size 720x360 with 1 Axes>"
      ]
     },
     "metadata": {
      "needs_background": "light"
     },
     "output_type": "display_data"
    }
   ],
   "source": [
    "plt.figure(figsize=(10,5))\n",
    "sns.barplot(year_counts.index, year_counts.values, alpha=0.8)\n",
    "plt.title('Age of adults on shelter waitlist', fontsize=14)\n",
    "plt.ylabel('Number of people', fontsize=14)\n",
    "plt.xlabel('Age range', fontsize=14)\n",
    "plt.show()"
   ]
  },
  {
   "cell_type": "code",
   "execution_count": 7,
   "metadata": {
    "ExecuteTime": {
     "end_time": "2019-03-12T18:05:07.814810Z",
     "start_time": "2019-03-12T18:05:07.810893Z"
    }
   },
   "outputs": [],
   "source": [
    "num_seniors = year_counts['65+']\n",
    "\n",
    "p = inflect.engine()\n",
    "num_seniors = p.number_to_words(num_seniors).capitalize()"
   ]
  },
  {
   "cell_type": "markdown",
   "metadata": {
    "variables": {
     "len(results_df.index)": "1405",
     "num_seniors": "One hundred and fifty-eight"
    }
   },
   "source": [
    "There are {{len(results_df.index)}} single adults on the waitlist for shelter tonight. **{{num_seniors}}** of them are senior citizens."
   ]
  },
  {
   "cell_type": "code",
   "execution_count": 14,
   "metadata": {
    "ExecuteTime": {
     "end_time": "2019-03-06T19:53:37.554839Z",
     "start_time": "2019-03-06T19:53:37.551249Z"
    }
   },
   "outputs": [
    {
     "name": "stdout",
     "output_type": "stream",
     "text": [
      "Automatic pdb calling has been turned ON\n"
     ]
    }
   ],
   "source": [
    "%pdb"
   ]
  },
  {
   "cell_type": "code",
   "execution_count": 15,
   "metadata": {
    "ExecuteTime": {
     "end_time": "2019-03-06T19:54:06.877957Z",
     "start_time": "2019-03-06T19:53:39.264673Z"
    }
   },
   "outputs": [
    {
     "ename": "ZeroDivisionError",
     "evalue": "division by zero",
     "output_type": "error",
     "traceback": [
      "\u001b[0;31m---------------------------------------------------------------------------\u001b[0m",
      "\u001b[0;31mZeroDivisionError\u001b[0m                         Traceback (most recent call last)",
      "\u001b[0;32m<ipython-input-15-9e1622b385b6>\u001b[0m in \u001b[0;36m<module>\u001b[0;34m\u001b[0m\n\u001b[0;32m----> 1\u001b[0;31m \u001b[0;36m1\u001b[0m\u001b[0;34m/\u001b[0m\u001b[0;36m0\u001b[0m\u001b[0;34m\u001b[0m\u001b[0;34m\u001b[0m\u001b[0m\n\u001b[0m",
      "\u001b[0;31mZeroDivisionError\u001b[0m: division by zero"
     ]
    },
    {
     "name": "stdout",
     "output_type": "stream",
     "text": [
      "> \u001b[0;32m<ipython-input-15-9e1622b385b6>\u001b[0m(1)\u001b[0;36m<module>\u001b[0;34m()\u001b[0m\n",
      "\u001b[0;32m----> 1 \u001b[0;31m\u001b[0;36m1\u001b[0m\u001b[0;34m/\u001b[0m\u001b[0;36m0\u001b[0m\u001b[0;34m\u001b[0m\u001b[0;34m\u001b[0m\u001b[0m\n",
      "\u001b[0m\n",
      "ipdb> dict()\n",
      "{}\n",
      "ipdb> dic()\n",
      "*** NameError: name 'dic' is not defined\n",
      "ipdb> dir()\n",
      "['In', 'Out', 'Socrata', '_', '_10', '_12', '_6', '_7', '_9', '__', '___', '__builtin__', '__builtins__', '__doc__', '__loader__', '__name__', '__package__', '__spec__', '_dh', '_i', '_i1', '_i10', '_i11', '_i12', '_i13', '_i14', '_i15', '_i2', '_i3', '_i4', '_i5', '_i6', '_i7', '_i8', '_i9', '_ih', '_ii', '_iii', '_oh', 'client', 'csv', 'df', 'exit', 'get_ipython', 'group_ages', 'inflect', 'json', 'num_seniors', 'p', 'pd', 'plt', 'quit', 'results', 'results_df', 'sns', 'yapf_reformat', 'year_counts']\n",
      "ipdb> n\n"
     ]
    }
   ],
   "source": [
    "1/0"
   ]
  },
  {
   "cell_type": "code",
   "execution_count": null,
   "metadata": {},
   "outputs": [],
   "source": [
    "%"
   ]
  }
 ],
 "metadata": {
  "kernelspec": {
   "display_name": "Python 3",
   "language": "python",
   "name": "python3"
  },
  "language_info": {
   "codemirror_mode": {
    "name": "ipython",
    "version": 3
   },
   "file_extension": ".py",
   "mimetype": "text/x-python",
   "name": "python",
   "nbconvert_exporter": "python",
   "pygments_lexer": "ipython3",
   "version": "3.7.1"
  },
  "toc": {
   "base_numbering": 1,
   "nav_menu": {},
   "number_sections": true,
   "sideBar": true,
   "skip_h1_title": false,
   "title_cell": "Table of Contents",
   "title_sidebar": "Contents",
   "toc_cell": false,
   "toc_position": {},
   "toc_section_display": true,
   "toc_window_display": true
  }
 },
 "nbformat": 4,
 "nbformat_minor": 2
}
